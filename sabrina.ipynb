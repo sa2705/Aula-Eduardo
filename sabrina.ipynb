{
 "cells": [
  {
   "cell_type": "markdown",
   "metadata": {},
   "source": [
    "<h1>Como instalar Python e Jupyter Notebook usando Anaconda</h1>"
   ]
  },
  {
   "cell_type": "markdown",
   "metadata": {},
   "source": [
    "Para realizar o download do Anaconda, inicialmente você deve acessar o site oficial da iniciativa."
   ]
  },
  {
   "cell_type": "raw",
   "metadata": {},
   "source": [
    "https://www.continuum.io/downloads"
   ]
  },
  {
   "cell_type": "markdown",
   "metadata": {},
   "source": [
    "Lá, selecione a versão do seu Sistema Operacional. "
   ]
  },
  {
   "cell_type": "markdown",
   "metadata": {},
   "source": [
    "Apos esconlher seu sistema operacional, lhe será mostrado as versões disponíveis do Python para baixar, além das arquiteturas 32 e 64 bits. Eu gosto da versão 3.6 do Python, então, eu preferi baixar esse. Ao clicar sobre o botão, o arquivo será baixado. Concluído o processo, realize a instalação do Anaconda."
   ]
  },
  {
   "cell_type": "markdown",
   "metadata": {},
   "source": [
    "A instalação é simples, é so seguir clicando no botão next. siga as telas será necessário possuir permissões administrativas para instalar para todo mundo, caso queira. Ao decidir, prossiga com a instalação."
   ]
  },
  {
   "cell_type": "markdown",
   "metadata": {},
   "source": [
    "Ao final do processo, marque a caixa em que pergunta se você deseja adicionar o Anaconda ao Path do seu Sistema Operacional. Isso será muito útil quando você quiser instalar outras bibliotecas facilmente."
   ]
  },
  {
   "cell_type": "markdown",
   "metadata": {},
   "source": [
    "Ao clicar em Install, Anaconda será instalado em seu computador. Quando terminar, reinicia sua máquina pra ter certeza que tudo está certinho. pronto você ja pode usar."
   ]
  },
  {
   "cell_type": "code",
   "execution_count": null,
   "metadata": {},
   "outputs": [],
   "source": []
  }
 ],
 "metadata": {
  "kernelspec": {
   "display_name": "Python 3",
   "language": "python",
   "name": "python3"
  },
  "language_info": {
   "codemirror_mode": {
    "name": "ipython",
    "version": 3
   },
   "file_extension": ".py",
   "mimetype": "text/x-python",
   "name": "python",
   "nbconvert_exporter": "python",
   "pygments_lexer": "ipython3",
   "version": "3.7.3"
  }
 },
 "nbformat": 4,
 "nbformat_minor": 2
}
